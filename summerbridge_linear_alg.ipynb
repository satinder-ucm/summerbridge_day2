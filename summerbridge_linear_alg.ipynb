{
 "cells": [
  {
   "cell_type": "code",
   "execution_count": null,
   "id": "657d4354-0056-4dfc-8062-d771306b10cf",
   "metadata": {},
   "outputs": [],
   "source": [
    "import numpy as np"
   ]
  },
  {
   "cell_type": "code",
   "execution_count": null,
   "id": "47c9a03d-4128-477b-aca4-ea5844ea36b6",
   "metadata": {},
   "outputs": [],
   "source": [
    "x = np.arange(9)\n",
    "y = np.arange(9)"
   ]
  },
  {
   "cell_type": "code",
   "execution_count": null,
   "id": "a123090d-11e9-4946-bf97-1eae24504297",
   "metadata": {},
   "outputs": [],
   "source": [
    "x * y"
   ]
  },
  {
   "cell_type": "code",
   "execution_count": null,
   "id": "677e048b-3414-4c01-ba2e-e160ee50a5f4",
   "metadata": {},
   "outputs": [],
   "source": [
    "# Matrix operation dot product\n",
    "x @ y"
   ]
  },
  {
   "cell_type": "code",
   "execution_count": null,
   "id": "56263729-eba3-4911-8876-d07a35503046",
   "metadata": {},
   "outputs": [],
   "source": [
    "x1 = x.reshape(3,3)\n",
    "x2 = x.reshape(9,1)"
   ]
  },
  {
   "cell_type": "code",
   "execution_count": null,
   "id": "7c1edee8-2aab-4906-bb7c-cf4a65c9607d",
   "metadata": {},
   "outputs": [],
   "source": [
    "x"
   ]
  },
  {
   "cell_type": "code",
   "execution_count": null,
   "id": "8296ad5e-a829-4f1c-902d-18bdabf45a45",
   "metadata": {},
   "outputs": [],
   "source": [
    "x1"
   ]
  },
  {
   "cell_type": "code",
   "execution_count": null,
   "id": "f44af918-2fa0-48e2-acbf-8f138f3ee6dc",
   "metadata": {},
   "outputs": [],
   "source": [
    "x2"
   ]
  },
  {
   "cell_type": "markdown",
   "id": "9bf34d98-9e43-40a4-8c5e-3db9199c5d23",
   "metadata": {},
   "source": [
    "## Challange\n",
    "\n",
    "1. Create a 3x3 array containing the numbers 0-8\n",
    "2. Multiply the array by itself (elementwise)\n",
    "3. Multiply the array by its transpose\n",
    "4. Divide the array by itself"
   ]
  },
  {
   "cell_type": "code",
   "execution_count": null,
   "id": "f3516256-f3a0-4b53-ac8f-151ef6df32b4",
   "metadata": {},
   "outputs": [],
   "source": [
    "c1 = np.arange(9).reshape(3,3)\n",
    "c1"
   ]
  },
  {
   "cell_type": "code",
   "execution_count": null,
   "id": "45c909d6-e0ac-4a2a-93f4-746a632cb9e2",
   "metadata": {},
   "outputs": [],
   "source": [
    "c1*c1"
   ]
  },
  {
   "cell_type": "code",
   "execution_count": null,
   "id": "f82ca5b1-1739-46a3-a981-bb0f1f654d2f",
   "metadata": {},
   "outputs": [],
   "source": [
    "np.transpose(c1)"
   ]
  },
  {
   "cell_type": "code",
   "execution_count": null,
   "id": "bd319bf6-182b-4505-88fc-978a1c2ec72a",
   "metadata": {},
   "outputs": [],
   "source": [
    "c1 * np.transpose(c1)"
   ]
  },
  {
   "cell_type": "code",
   "execution_count": null,
   "id": "5eb89ef1-60a7-4259-a954-955481291e46",
   "metadata": {},
   "outputs": [],
   "source": [
    "c1 / c1"
   ]
  },
  {
   "cell_type": "code",
   "execution_count": null,
   "id": "1e3dbb49-668c-467a-83ff-2a708c92617b",
   "metadata": {},
   "outputs": [],
   "source": [
    "# Can also do transpose as this\n",
    "c1 * c1.T"
   ]
  },
  {
   "cell_type": "markdown",
   "id": "0b6637fa-3fbf-4578-8fb4-516ab8c21643",
   "metadata": {},
   "source": [
    "# Working with data in Pandas"
   ]
  },
  {
   "cell_type": "code",
   "execution_count": null,
   "id": "0d6b26f7-6941-4390-b8bd-258ca9c4f5e3",
   "metadata": {},
   "outputs": [],
   "source": [
    "import pandas as pd"
   ]
  },
  {
   "cell_type": "code",
   "execution_count": null,
   "id": "94a21ef4-1fdd-429d-9a65-748d578a02b6",
   "metadata": {},
   "outputs": [],
   "source": [
    "data = pd.read_csv(\"gapminder_gdp_oceania.csv\", index_col = \"country\")\n",
    "data"
   ]
  },
  {
   "cell_type": "code",
   "execution_count": null,
   "id": "eac89176-e84e-433e-8d3f-c0472ec49409",
   "metadata": {},
   "outputs": [],
   "source": [
    "# Good advice about python\n",
    "import this"
   ]
  },
  {
   "cell_type": "code",
   "execution_count": null,
   "id": "89663971-bc4d-4433-a4c7-c33871933cec",
   "metadata": {},
   "outputs": [],
   "source": [
    "data.index"
   ]
  },
  {
   "cell_type": "code",
   "execution_count": null,
   "id": "4b59b4d9-b2ae-4781-8e2b-05e71e59c44d",
   "metadata": {},
   "outputs": [],
   "source": [
    "data.columns"
   ]
  },
  {
   "cell_type": "code",
   "execution_count": null,
   "id": "926ce42c-1da4-4630-a57e-3b2f520f78e9",
   "metadata": {},
   "outputs": [],
   "source": [
    "data.shape"
   ]
  },
  {
   "cell_type": "code",
   "execution_count": null,
   "id": "14016492-798a-4271-b46c-5ba3dc55e914",
   "metadata": {},
   "outputs": [],
   "source": [
    "# Data frames can tell you about their contents\n",
    "data.info()"
   ]
  },
  {
   "cell_type": "code",
   "execution_count": null,
   "id": "9191bab5-3875-42ca-933b-1b1e1b42a51b",
   "metadata": {},
   "outputs": [],
   "source": [
    "# Get descriptive statistics\n",
    "data.describe()"
   ]
  },
  {
   "cell_type": "code",
   "execution_count": null,
   "id": "eeaf39e3-ac95-4acb-8f0e-ffec8a12305e",
   "metadata": {},
   "outputs": [],
   "source": [
    "# Get the first N rows\n",
    "data.head(1)"
   ]
  },
  {
   "cell_type": "code",
   "execution_count": null,
   "id": "ed648602-754e-419c-a41e-8570ec380e65",
   "metadata": {},
   "outputs": [],
   "source": [
    "data.T.describe()"
   ]
  },
  {
   "cell_type": "code",
   "execution_count": null,
   "id": "29b06469-f54e-4c5e-875f-eb6b561cc1f8",
   "metadata": {},
   "outputs": [],
   "source": [
    "data"
   ]
  },
  {
   "cell_type": "code",
   "execution_count": null,
   "id": "73081e12-467d-477f-b995-76da2df17437",
   "metadata": {},
   "outputs": [],
   "source": [
    "data.T"
   ]
  },
  {
   "cell_type": "markdown",
   "id": "b8cab620-0408-4386-9c6e-97585d6a3b34",
   "metadata": {},
   "source": [
    "##  Subsetting data"
   ]
  },
  {
   "cell_type": "code",
   "execution_count": null,
   "id": "c415dc88-29d7-4959-a75c-26291cb31975",
   "metadata": {},
   "outputs": [],
   "source": [
    "data_europe = pd.read_csv(\"gapminder_gdp_europe.csv\", index_col = \"country\")\n",
    "data_europe.head(3)"
   ]
  },
  {
   "cell_type": "code",
   "execution_count": null,
   "id": "f15b3013-8f56-4ebd-82c9-1514f36a70d7",
   "metadata": {},
   "outputs": [],
   "source": [
    "# Get item by index location\n",
    "data_europe.iloc[0,0]"
   ]
  },
  {
   "cell_type": "code",
   "execution_count": null,
   "id": "1b28a40c-bb72-4c28-8136-021fa6b40c67",
   "metadata": {},
   "outputs": [],
   "source": [
    "# Get item by label\n",
    "data_europe.loc[\"Albania\",\"gdpPercap_1952\"]"
   ]
  },
  {
   "cell_type": "markdown",
   "id": "7db9acc0-286f-43b6-90b9-085fd641936a",
   "metadata": {},
   "source": [
    "## A brief digression on string methods"
   ]
  },
  {
   "cell_type": "code",
   "execution_count": null,
   "id": "069a2e44-f493-4775-ae2c-6f0b74c3f6d9",
   "metadata": {},
   "outputs": [],
   "source": [
    "# Standard python has string methods\n",
    "big_hello = \"hello\".title()\n",
    "big_hello"
   ]
  },
  {
   "cell_type": "code",
   "execution_count": null,
   "id": "392fe7fa-d751-49e2-a597-6ca877a62bdd",
   "metadata": {},
   "outputs": [],
   "source": [
    "help(\"hello\".title)"
   ]
  },
  {
   "cell_type": "code",
   "execution_count": null,
   "id": "910cdfad-551b-4683-82b0-720d967e06c2",
   "metadata": {},
   "outputs": [],
   "source": [
    "# What methods are available\n",
    "dir(\"hello\")"
   ]
  },
  {
   "cell_type": "code",
   "execution_count": null,
   "id": "1ef18c28-1044-4512-823e-7d384cf7d64e",
   "metadata": {},
   "outputs": [],
   "source": [
    "data_europe.columns"
   ]
  },
  {
   "cell_type": "code",
   "execution_count": null,
   "id": "d00f7ac8-fee6-4a54-bf78-34d79af2e93c",
   "metadata": {},
   "outputs": [],
   "source": [
    "dir(data_europe.columns.str)"
   ]
  },
  {
   "cell_type": "code",
   "execution_count": null,
   "id": "5e21757d-46f6-4ccb-85df-9a91bf51097b",
   "metadata": {},
   "outputs": [],
   "source": [
    "data_europe.columns"
   ]
  },
  {
   "cell_type": "code",
   "execution_count": null,
   "id": "f5152a35-a8fe-4985-b0c5-b836ebba67e6",
   "metadata": {},
   "outputs": [],
   "source": [
    "# Rewrite column headers to strip off leading text\n",
    "data_europe.columns = data_europe.columns.str.strip(\"gdpPercap_\")\n",
    "data_europe.columns"
   ]
  },
  {
   "cell_type": "code",
   "execution_count": null,
   "id": "1702e8ed-849d-48c2-b9a5-263275257e69",
   "metadata": {},
   "outputs": [],
   "source": [
    "data_europe.loc[\"Albania\", \"1952\"]"
   ]
  },
  {
   "cell_type": "code",
   "execution_count": null,
   "id": "ca257cfd-d824-4304-8f1f-4b9e94b501a1",
   "metadata": {},
   "outputs": [],
   "source": [
    "europe_subset = data_europe.loc[\"Italy\":\"Poland\",\"1962\":\"1972\"]\n",
    "europe_subset"
   ]
  },
  {
   "cell_type": "code",
   "execution_count": null,
   "id": "1cf2b0cd-f545-42df-bf2c-92866eb6dede",
   "metadata": {},
   "outputs": [],
   "source": [
    "#Get all of the variables for a subset of rows\n",
    "data_europe.loc[\"Italy\":\"Poland\", :]"
   ]
  },
  {
   "cell_type": "code",
   "execution_count": null,
   "id": "2f34fc7c-49cb-419c-8308-8c60c42c4995",
   "metadata": {},
   "outputs": [],
   "source": [
    "europe_subset.max()"
   ]
  },
  {
   "cell_type": "markdown",
   "id": "cd977ecc-5b22-410a-a832-d4f3985d6fc5",
   "metadata": {},
   "source": [
    "## Challange\n",
    "1. Calculate subset.max() and assign the results to a variable. What kind of thing is it?\n",
    "2. What is the maximum value of the new thing?\n",
    "3. Can you calculate the max value of the new thing in 1 step?"
   ]
  },
  {
   "cell_type": "code",
   "execution_count": null,
   "id": "d730d1f3-5c46-4bfb-9cdc-566a43ad10b8",
   "metadata": {},
   "outputs": [],
   "source": [
    "subset_max = europe_subset.max()\n",
    "subset_max.info()"
   ]
  },
  {
   "cell_type": "code",
   "execution_count": null,
   "id": "0fb92d5c-4563-4b34-a8b5-0314e20611b7",
   "metadata": {},
   "outputs": [],
   "source": [
    "max(subset_max)"
   ]
  },
  {
   "cell_type": "code",
   "execution_count": null,
   "id": "ebdb2e96-8c68-4b2e-ac23-0181c1ce0f52",
   "metadata": {},
   "outputs": [],
   "source": [
    "max(europe_subset.max())"
   ]
  },
  {
   "cell_type": "code",
   "execution_count": null,
   "id": "28bbf3b2-5ff8-4cc1-82ac-6eea03999dd7",
   "metadata": {},
   "outputs": [],
   "source": [
    "europe_subset.max().max()"
   ]
  },
  {
   "cell_type": "code",
   "execution_count": null,
   "id": "7bec4c08-ee9c-4e53-a8c0-25452fb5c66b",
   "metadata": {},
   "outputs": [],
   "source": [
    "type(europe_subset)"
   ]
  },
  {
   "cell_type": "code",
   "execution_count": null,
   "id": "33a866df-7e05-465e-a5dd-d212ce3a2d74",
   "metadata": {},
   "outputs": [],
   "source": [
    "type(subset_max)"
   ]
  },
  {
   "cell_type": "code",
   "execution_count": null,
   "id": "fa39204a-29cd-4cf0-bf61-2f9301577480",
   "metadata": {},
   "outputs": [],
   "source": [
    "europe_subset"
   ]
  },
  {
   "cell_type": "code",
   "execution_count": null,
   "id": "8ba57b2b-f43f-4b7c-ad5e-a3be7893da5f",
   "metadata": {},
   "outputs": [],
   "source": [
    "europe_subset.max(axis = 0)"
   ]
  },
  {
   "cell_type": "code",
   "execution_count": null,
   "id": "fbca93d4-8f2a-426b-a0e8-2bd6f3054c68",
   "metadata": {},
   "outputs": [],
   "source": [
    "europe_subset.max(axis = 1)"
   ]
  },
  {
   "cell_type": "code",
   "execution_count": null,
   "id": "ecc860ff-de34-4d27-a708-c9229bbbd61c",
   "metadata": {},
   "outputs": [],
   "source": [
    "# Get max for overall data frame\n",
    "europe_subset.max(axis = None)"
   ]
  },
  {
   "cell_type": "markdown",
   "id": "10f4e838-5513-4838-b7a9-4ad397f920bd",
   "metadata": {},
   "source": [
    "# Filter data by criterion\n"
   ]
  },
  {
   "cell_type": "code",
   "execution_count": null,
   "id": "d5967d0c-bad8-4443-809e-cd6abea98ca2",
   "metadata": {},
   "outputs": [],
   "source": [
    "europe_subset"
   ]
  },
  {
   "cell_type": "code",
   "execution_count": null,
   "id": "cc3fd2fb-0dac-402c-8c17-535f83a39199",
   "metadata": {},
   "outputs": [],
   "source": [
    "# Get GDPs greater than 10,0000\n",
    "europe_subset > 10000"
   ]
  },
  {
   "cell_type": "code",
   "execution_count": null,
   "id": "bb9ba94a-93a4-467f-97e1-279633f8024b",
   "metadata": {},
   "outputs": [],
   "source": [
    "# Filter the data frame by the criterion\n",
    "df = europe_subset[europe_subset > 10000]\n",
    "df"
   ]
  },
  {
   "cell_type": "code",
   "execution_count": null,
   "id": "076deeb2-7368-4bdb-a0bc-13efec99dc0f",
   "metadata": {},
   "outputs": [],
   "source": [
    "# Get everything above the median\n",
    "europe_subset[europe_subset > europe_subset.median(axis = None)]"
   ]
  },
  {
   "cell_type": "code",
   "execution_count": null,
   "id": "3bd9e226-38f6-4c8c-ac6c-5947f7d858fc",
   "metadata": {},
   "outputs": [],
   "source": [
    "europe_subset > europe_subset.median(axis = None)"
   ]
  },
  {
   "cell_type": "markdown",
   "id": "780c5b04-410d-480d-8207-9e074dfc543e",
   "metadata": {},
   "source": [
    "# Working with missing data"
   ]
  },
  {
   "cell_type": "code",
   "execution_count": null,
   "id": "bb40db52-e789-4329-bda7-947c1017a996",
   "metadata": {},
   "outputs": [],
   "source": [
    "# Missing data is ignored by default"
   ]
  },
  {
   "cell_type": "code",
   "execution_count": null,
   "id": "ead7ab6c-8844-466a-a6f8-2fa62e71db4e",
   "metadata": {},
   "outputs": [],
   "source": [
    "print(\"Column Means\")\n",
    "df.mean()"
   ]
  },
  {
   "cell_type": "code",
   "execution_count": null,
   "id": "a23b9b87-186f-46e7-85ec-3518d9584aa4",
   "metadata": {},
   "outputs": [],
   "source": [
    "print(\"Row Means\")\n",
    "df.mean(axis = 1)"
   ]
  },
  {
   "cell_type": "code",
   "execution_count": null,
   "id": "405a269a-5f23-434d-9277-ced194bd9feb",
   "metadata": {},
   "outputs": [],
   "source": [
    "# Check for missing values\n",
    "df.isna()"
   ]
  },
  {
   "cell_type": "code",
   "execution_count": null,
   "id": "19cb4194-1e8d-40a8-a6fe-e21670d43e4c",
   "metadata": {},
   "outputs": [],
   "source": [
    "# Count our missing values\n",
    "df.isna().sum().sum()"
   ]
  },
  {
   "cell_type": "code",
   "execution_count": null,
   "id": "d71e1440-a21c-41d5-a774-676e0f9147e5",
   "metadata": {},
   "outputs": [],
   "source": [
    "df.isna()"
   ]
  },
  {
   "cell_type": "code",
   "execution_count": null,
   "id": "53f9b6cb-08a8-4e6d-95b5-5a1db65e5158",
   "metadata": {},
   "outputs": [],
   "source": [
    "df.count()"
   ]
  },
  {
   "cell_type": "code",
   "execution_count": null,
   "id": "493535ac-3aae-4a04-8712-a519f9babaae",
   "metadata": {},
   "outputs": [],
   "source": [
    "df.isna() == True"
   ]
  },
  {
   "cell_type": "code",
   "execution_count": null,
   "id": "76c810d7-ad09-4fd8-976a-7f80c753b30d",
   "metadata": {},
   "outputs": [],
   "source": [
    "# Drop missing values\n",
    "df.dropna()"
   ]
  },
  {
   "cell_type": "code",
   "execution_count": null,
   "id": "f241027e-2cd2-4ee6-a863-be15ab55631d",
   "metadata": {},
   "outputs": [],
   "source": [
    "# Replace missing values with a fixed value\n",
    "df_fixed = df.fillna(99)\n",
    "df_fixed"
   ]
  },
  {
   "cell_type": "code",
   "execution_count": null,
   "id": "081644f4-46bc-41a1-bca9-8d25ed080d56",
   "metadata": {},
   "outputs": [],
   "source": [
    "# Replace missing values with interpolated data\n",
    "df_interpolated = df.interpolate()\n",
    "df_interpolated"
   ]
  },
  {
   "cell_type": "markdown",
   "id": "3d932ac2-5d7c-4444-ac28-18d542b20e5c",
   "metadata": {},
   "source": [
    "## Challange: The perils of missing data\n",
    "1. Create an array of random numbers atching the \"data\" dataframe\n",
    "\n",
    "random_filter = np.random.rand(30,12) * data_europe.max().max()\n",
    "\n",
    "2. Create a new data frame that filters out all the values lower than the random numbers\n",
    "3. Interpolate new values for the missing data. How accurate are they?\n"
   ]
  },
  {
   "cell_type": "code",
   "execution_count": null,
   "id": "4ce20ee3-8f68-4c64-b2e0-688287f4f013",
   "metadata": {},
   "outputs": [],
   "source": [
    "random_filter = np.random.rand(30,12) * data_europe.max().max()"
   ]
  },
  {
   "cell_type": "code",
   "execution_count": null,
   "id": "6170a32d-b3a2-4130-90c1-b7a08d0b2a5a",
   "metadata": {},
   "outputs": [],
   "source": [
    "random_filter"
   ]
  },
  {
   "cell_type": "code",
   "execution_count": null,
   "id": "d8940fd8-7472-469a-9dcf-c894e2463bdd",
   "metadata": {},
   "outputs": [],
   "source": [
    "data_filtered = data_europe[data_europe > random_filter]"
   ]
  },
  {
   "cell_type": "code",
   "execution_count": null,
   "id": "5bcfe0c8-4848-41c6-92db-760e7e9321b6",
   "metadata": {},
   "outputs": [],
   "source": [
    "data_filtered"
   ]
  },
  {
   "cell_type": "code",
   "execution_count": null,
   "id": "5524b4db-2e79-449a-b072-356b34410472",
   "metadata": {},
   "outputs": [],
   "source": [
    "df_interpolated_random = data_filtered.interpolate()\n",
    "df_interpolated_random"
   ]
  },
  {
   "cell_type": "code",
   "execution_count": null,
   "id": "a6d1064b-9a0b-4104-a9cb-15e9cac57e97",
   "metadata": {},
   "outputs": [],
   "source": [
    "# percent error\n",
    "abs((data_europe - df_interpolated_random)/((data_europe)))*100"
   ]
  },
  {
   "cell_type": "code",
   "execution_count": null,
   "id": "d6352341-8066-4b12-b52d-b1748070706b",
   "metadata": {},
   "outputs": [],
   "source": [
    "data_europe.describe()"
   ]
  },
  {
   "cell_type": "code",
   "execution_count": null,
   "id": "36c27990-d8ed-4ebf-9fcb-922d4af7c3eb",
   "metadata": {},
   "outputs": [],
   "source": [
    "df_interpolated_random.describe()"
   ]
  },
  {
   "cell_type": "markdown",
   "id": "045e9587-5d41-4b58-81c2-194187fa4ed7",
   "metadata": {},
   "source": [
    "# Sorting and grouping data"
   ]
  },
  {
   "cell_type": "code",
   "execution_count": null,
   "id": "d657c282-d998-465a-9d24-44f175f7b846",
   "metadata": {},
   "outputs": [],
   "source": [
    "# Z score all of the GDP data points\n",
    "z = (data_europe - data_europe.mean().mean())/data_europe.values.std(ddof = 1)\n",
    "z"
   ]
  },
  {
   "cell_type": "code",
   "execution_count": null,
   "id": "62aa6d55-2eba-49f8-86c6-c2016b7b092e",
   "metadata": {},
   "outputs": [],
   "source": [
    "mean_z = z.mean(axis = 1)\n",
    "mean_z.sort_values()"
   ]
  },
  {
   "cell_type": "code",
   "execution_count": null,
   "id": "3f126289-7eb9-4a3f-9b00-389eae61994f",
   "metadata": {},
   "outputs": [],
   "source": [
    "bool_z = mean_z > 0\n",
    "bool_z"
   ]
  },
  {
   "cell_type": "code",
   "execution_count": null,
   "id": "35b32f83-8fa6-4c38-88a7-f268b8543d02",
   "metadata": {},
   "outputs": [],
   "source": [
    "# Add new columns to data frame\n",
    "data_europe[\"mean_z\"] = mean_z\n",
    "data_europe[\"wealthy\"] = bool_z"
   ]
  },
  {
   "cell_type": "code",
   "execution_count": null,
   "id": "3e6d53ff-2cb9-4c9d-bf42-cdae65bc482e",
   "metadata": {},
   "outputs": [],
   "source": [
    "data_europe"
   ]
  },
  {
   "cell_type": "code",
   "execution_count": null,
   "id": "752a66cb-77de-47d2-be9e-cf030d8087f3",
   "metadata": {},
   "outputs": [],
   "source": [
    "# Get descriptive statistic for groups\n",
    "data_europe.groupby(\"wealthy\").mean()"
   ]
  },
  {
   "cell_type": "code",
   "execution_count": null,
   "id": "b4eb687e-003f-47e2-ae8e-a67a2155a010",
   "metadata": {},
   "outputs": [],
   "source": [
    "data_europe.groupby(\"wealthy\").describe()"
   ]
  },
  {
   "cell_type": "code",
   "execution_count": null,
   "id": "98ff37c3-ceb0-4406-ab42-da5f49a9fb17",
   "metadata": {},
   "outputs": [],
   "source": [
    "# Write output\n",
    "data_europe.to_csv(\"europe_normed.csv\")"
   ]
  },
  {
   "cell_type": "code",
   "execution_count": null,
   "id": "7d0a8f5b-8107-4f18-88e2-f8059025866d",
   "metadata": {},
   "outputs": [],
   "source": []
  }
 ],
 "metadata": {
  "kernelspec": {
   "display_name": "Python 3 (ipykernel)",
   "language": "python",
   "name": "python3"
  },
  "language_info": {
   "codemirror_mode": {
    "name": "ipython",
    "version": 3
   },
   "file_extension": ".py",
   "mimetype": "text/x-python",
   "name": "python",
   "nbconvert_exporter": "python",
   "pygments_lexer": "ipython3",
   "version": "3.9.12"
  }
 },
 "nbformat": 4,
 "nbformat_minor": 5
}
