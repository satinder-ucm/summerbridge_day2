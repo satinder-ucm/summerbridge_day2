{
 "cells": [
  {
   "cell_type": "code",
   "execution_count": null,
   "id": "598cd2f0-1a6a-42d4-84b8-d296528966f9",
   "metadata": {
    "tags": []
   },
   "outputs": [],
   "source": [
    "3+7"
   ]
  },
  {
   "cell_type": "code",
   "execution_count": null,
   "id": "59e74244-4878-478d-bf8d-458229961120",
   "metadata": {},
   "outputs": [],
   "source": [
    "print(\"hello\")"
   ]
  },
  {
   "cell_type": "code",
   "execution_count": null,
   "id": "205ecde7-73ea-491d-9ccd-706af6242dd5",
   "metadata": {},
   "outputs": [],
   "source": [
    "print(7)"
   ]
  },
  {
   "cell_type": "code",
   "execution_count": null,
   "id": "aa11b219-a0f1-4dce-8fba-f41826f2f838",
   "metadata": {},
   "outputs": [],
   "source": [
    "name = \"Satinder\"\n",
    "age = 32"
   ]
  },
  {
   "cell_type": "code",
   "execution_count": null,
   "id": "1f5bdd03-dcd6-4a18-84b9-b46d226c7135",
   "metadata": {},
   "outputs": [],
   "source": [
    "print(age)"
   ]
  },
  {
   "cell_type": "code",
   "execution_count": null,
   "id": "7e931fe0-b19d-4f93-b9cd-fb8d99cef1b6",
   "metadata": {},
   "outputs": [],
   "source": [
    "# This is a comment. It will not run\n",
    "# You can echo values without using print in this notebook"
   ]
  },
  {
   "cell_type": "code",
   "execution_count": null,
   "id": "f161fb45-0c15-4a1a-8721-f17c8c4c2b49",
   "metadata": {},
   "outputs": [],
   "source": [
    "name"
   ]
  },
  {
   "cell_type": "markdown",
   "id": "e91d8bef-8b0d-4f19-b07e-e0ef6c410d44",
   "metadata": {
    "tags": []
   },
   "source": [
    "# Variables and values"
   ]
  },
  {
   "cell_type": "code",
   "execution_count": null,
   "id": "21d9dd7d-d789-4abf-a8ee-f32af2a2fca0",
   "metadata": {},
   "outputs": [],
   "source": [
    "# Variables can be used in calculations\n",
    "print(age)\n",
    "age = age + 3\n",
    "print(age)"
   ]
  },
  {
   "cell_type": "code",
   "execution_count": null,
   "id": "d039a600-5ec2-4a41-9f55-12aa3e08f61b",
   "metadata": {},
   "outputs": [],
   "source": [
    "# Order of operations matters!\n",
    "first = 1\n",
    "second = first * 5\n",
    "first = 2\n",
    "\n",
    "print(first)\n",
    "print(second)"
   ]
  },
  {
   "cell_type": "code",
   "execution_count": null,
   "id": "40caa29b-99d7-4923-bb54-12b26dfbd3d3",
   "metadata": {},
   "outputs": [],
   "source": [
    "# Values have types. Types affect what you can do with them.\n",
    "print(5-3)\n",
    "#print(\"hello\" - \"h\")"
   ]
  },
  {
   "cell_type": "code",
   "execution_count": null,
   "id": "b4b16831-fded-49ed-a3da-33918e228f5f",
   "metadata": {},
   "outputs": [],
   "source": [
    "print(len(\"Hello\"))\n",
    "#print(len(6))"
   ]
  },
  {
   "cell_type": "markdown",
   "id": "d80f346d-8d56-4c3d-979c-7fff327b47b2",
   "metadata": {
    "tags": []
   },
   "source": [
    "## Challenge\n",
    "Explain what each operator does\n",
    "\n",
    "5//3\n",
    "\n",
    "5/3\n",
    "\n",
    "5 % 3"
   ]
  },
  {
   "cell_type": "code",
   "execution_count": null,
   "id": "9a58394c-953b-4c28-a88d-0ce95f5fb02d",
   "metadata": {},
   "outputs": [],
   "source": [
    "5//3"
   ]
  },
  {
   "cell_type": "code",
   "execution_count": null,
   "id": "11d29dbb-50bf-4743-b016-142a27f310bd",
   "metadata": {},
   "outputs": [],
   "source": [
    "5/3"
   ]
  },
  {
   "cell_type": "code",
   "execution_count": null,
   "id": "0add798a-aea5-4735-b1d5-b2e509dea1f4",
   "metadata": {},
   "outputs": [],
   "source": [
    "5%3"
   ]
  },
  {
   "cell_type": "markdown",
   "id": "e85ad18a-acbc-4aec-b721-1d05c176d391",
   "metadata": {},
   "source": [
    "## Getting Help!"
   ]
  },
  {
   "cell_type": "code",
   "execution_count": null,
   "id": "ae90e4f2-00dc-4434-8175-cb44022568eb",
   "metadata": {},
   "outputs": [],
   "source": [
    "# Rounding numbers is built in\n",
    "round(3.14159)"
   ]
  },
  {
   "cell_type": "code",
   "execution_count": null,
   "id": "6d9c77d1-4583-430d-985a-4e19f91d4fb5",
   "metadata": {},
   "outputs": [],
   "source": [
    "round(3.14159, 2)"
   ]
  },
  {
   "cell_type": "code",
   "execution_count": null,
   "id": "7d96f570-7b0d-4a02-af8a-5de53c7b147b",
   "metadata": {},
   "outputs": [],
   "source": [
    "help(round)"
   ]
  },
  {
   "cell_type": "code",
   "execution_count": null,
   "id": "fc5669cd-7c90-466a-bbf4-9d1705aecd4b",
   "metadata": {},
   "outputs": [],
   "source": [
    "round(3.14519, ndigits = 2)"
   ]
  },
  {
   "cell_type": "code",
   "execution_count": null,
   "id": "d22bf2d8-1d35-429b-9b18-eea9cbaef864",
   "metadata": {},
   "outputs": [],
   "source": [
    "# All functionts return a value\n",
    "rounded_pi = round(3.14159, 2)\n",
    "print(rounded_pi)"
   ]
  },
  {
   "cell_type": "markdown",
   "id": "6d9016cf-2a98-4865-b5d5-59b747c07845",
   "metadata": {},
   "source": [
    "## Challenge\n",
    "\n",
    "In what order do the operations happen?\n",
    "\n",
    "radiance = 1.0 <br>\n",
    "radiance = max(2.1, 2.0 + min(radiance, 1.1 * radiance - 0.5))"
   ]
  },
  {
   "cell_type": "code",
   "execution_count": null,
   "id": "e5da2602-e42f-46c5-8de8-6852a1cbee24",
   "metadata": {},
   "outputs": [],
   "source": [
    "help(max)"
   ]
  },
  {
   "cell_type": "code",
   "execution_count": null,
   "id": "124e96e4-598a-49a4-9f5c-be78dccde0e1",
   "metadata": {},
   "outputs": [],
   "source": [
    "radiance = 1.0\n",
    "radiance = max(2.1, 2.0 + min(radiance, 1.1 * radiance - 0.5))"
   ]
  },
  {
   "cell_type": "code",
   "execution_count": null,
   "id": "67e54135-65a0-48ca-8ac5-96bd654d6b84",
   "metadata": {},
   "outputs": [],
   "source": [
    "print(radiance)"
   ]
  },
  {
   "cell_type": "code",
   "execution_count": null,
   "id": "785369e3-4ae1-4ae7-8155-862087a841a0",
   "metadata": {},
   "outputs": [],
   "source": [
    "# Break down these operation\n",
    "radiance = 1.0\n",
    "min_arg_2 = 1.1 * radiance - 0.5\n",
    "print(\"Min arg 2\",min_arg_2)\n",
    "\n",
    "min_result = min(radiance, min_arg_2)\n",
    "print(\"Min result\",min_result)\n",
    "\n",
    "radiance = max(2.1, 2.0 + min_result)\n",
    "print(\"radiance\",radiance)"
   ]
  },
  {
   "cell_type": "markdown",
   "id": "19996473-727c-4f94-af03-6735df137d6f",
   "metadata": {},
   "source": [
    "## A Brief Interlude with Git"
   ]
  },
  {
   "cell_type": "code",
   "execution_count": 1,
   "id": "4387c010-07b0-4d21-b152-54b92b17d773",
   "metadata": {},
   "outputs": [],
   "source": [
    "# make .gitignore file and edit with nano to put files you want to ignore in commiting *.txt *.csv .ipynb_checkpoints/"
   ]
  },
  {
   "cell_type": "code",
   "execution_count": null,
   "id": "fb14d323-acf6-43fa-9687-a7b4b381da6e",
   "metadata": {},
   "outputs": [],
   "source": []
  }
 ],
 "metadata": {
  "kernelspec": {
   "display_name": "Python 3 (ipykernel)",
   "language": "python",
   "name": "python3"
  },
  "language_info": {
   "codemirror_mode": {
    "name": "ipython",
    "version": 3
   },
   "file_extension": ".py",
   "mimetype": "text/x-python",
   "name": "python",
   "nbconvert_exporter": "python",
   "pygments_lexer": "ipython3",
   "version": "3.9.12"
  }
 },
 "nbformat": 4,
 "nbformat_minor": 5
}
