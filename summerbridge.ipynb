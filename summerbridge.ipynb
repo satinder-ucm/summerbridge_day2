{
 "cells": [
  {
   "cell_type": "code",
   "execution_count": null,
   "id": "598cd2f0-1a6a-42d4-84b8-d296528966f9",
   "metadata": {
    "tags": []
   },
   "outputs": [],
   "source": [
    "3+7"
   ]
  },
  {
   "cell_type": "code",
   "execution_count": null,
   "id": "59e74244-4878-478d-bf8d-458229961120",
   "metadata": {},
   "outputs": [],
   "source": [
    "print(\"hello\")"
   ]
  },
  {
   "cell_type": "code",
   "execution_count": null,
   "id": "205ecde7-73ea-491d-9ccd-706af6242dd5",
   "metadata": {},
   "outputs": [],
   "source": [
    "print(7)"
   ]
  },
  {
   "cell_type": "code",
   "execution_count": null,
   "id": "aa11b219-a0f1-4dce-8fba-f41826f2f838",
   "metadata": {},
   "outputs": [],
   "source": [
    "name = \"Satinder\"\n",
    "age = 32"
   ]
  },
  {
   "cell_type": "code",
   "execution_count": null,
   "id": "1f5bdd03-dcd6-4a18-84b9-b46d226c7135",
   "metadata": {},
   "outputs": [],
   "source": [
    "print(age)"
   ]
  },
  {
   "cell_type": "code",
   "execution_count": null,
   "id": "7e931fe0-b19d-4f93-b9cd-fb8d99cef1b6",
   "metadata": {},
   "outputs": [],
   "source": [
    "# This is a comment. It will not run\n",
    "# You can echo values without using print in this notebook"
   ]
  },
  {
   "cell_type": "code",
   "execution_count": null,
   "id": "f161fb45-0c15-4a1a-8721-f17c8c4c2b49",
   "metadata": {},
   "outputs": [],
   "source": [
    "name"
   ]
  },
  {
   "cell_type": "markdown",
   "id": "e91d8bef-8b0d-4f19-b07e-e0ef6c410d44",
   "metadata": {
    "tags": []
   },
   "source": [
    "# Variables and values"
   ]
  },
  {
   "cell_type": "code",
   "execution_count": null,
   "id": "21d9dd7d-d789-4abf-a8ee-f32af2a2fca0",
   "metadata": {},
   "outputs": [],
   "source": [
    "# Variables can be used in calculations\n",
    "print(age)\n",
    "age = age + 3\n",
    "print(age)"
   ]
  },
  {
   "cell_type": "code",
   "execution_count": null,
   "id": "d039a600-5ec2-4a41-9f55-12aa3e08f61b",
   "metadata": {},
   "outputs": [],
   "source": [
    "# Order of operations matters!\n",
    "first = 1\n",
    "second = first * 5\n",
    "first = 2\n",
    "\n",
    "print(first)\n",
    "print(second)"
   ]
  },
  {
   "cell_type": "code",
   "execution_count": null,
   "id": "40caa29b-99d7-4923-bb54-12b26dfbd3d3",
   "metadata": {},
   "outputs": [],
   "source": [
    "# Values have types. Types affect what you can do with them.\n",
    "print(5-3)\n",
    "#print(\"hello\" - \"h\")"
   ]
  },
  {
   "cell_type": "code",
   "execution_count": null,
   "id": "b4b16831-fded-49ed-a3da-33918e228f5f",
   "metadata": {},
   "outputs": [],
   "source": [
    "print(len(\"Hello\"))\n",
    "#print(len(6))"
   ]
  },
  {
   "cell_type": "markdown",
   "id": "d80f346d-8d56-4c3d-979c-7fff327b47b2",
   "metadata": {
    "tags": []
   },
   "source": [
    "## Challenge\n",
    "Explain what each operator does\n",
    "\n",
    "5//3\n",
    "\n",
    "5/3\n",
    "\n",
    "5 % 3"
   ]
  },
  {
   "cell_type": "code",
   "execution_count": null,
   "id": "9a58394c-953b-4c28-a88d-0ce95f5fb02d",
   "metadata": {},
   "outputs": [],
   "source": [
    "5//3"
   ]
  },
  {
   "cell_type": "code",
   "execution_count": null,
   "id": "11d29dbb-50bf-4743-b016-142a27f310bd",
   "metadata": {},
   "outputs": [],
   "source": [
    "5/3"
   ]
  },
  {
   "cell_type": "code",
   "execution_count": null,
   "id": "0add798a-aea5-4735-b1d5-b2e509dea1f4",
   "metadata": {},
   "outputs": [],
   "source": [
    "5%3"
   ]
  },
  {
   "cell_type": "markdown",
   "id": "e85ad18a-acbc-4aec-b721-1d05c176d391",
   "metadata": {},
   "source": [
    "## Getting Help!"
   ]
  },
  {
   "cell_type": "code",
   "execution_count": null,
   "id": "ae90e4f2-00dc-4434-8175-cb44022568eb",
   "metadata": {},
   "outputs": [],
   "source": [
    "# Rounding numbers is built in\n",
    "round(3.14159)"
   ]
  },
  {
   "cell_type": "code",
   "execution_count": null,
   "id": "6d9c77d1-4583-430d-985a-4e19f91d4fb5",
   "metadata": {},
   "outputs": [],
   "source": [
    "round(3.14159, 2)"
   ]
  },
  {
   "cell_type": "code",
   "execution_count": null,
   "id": "7d96f570-7b0d-4a02-af8a-5de53c7b147b",
   "metadata": {},
   "outputs": [],
   "source": [
    "help(round)"
   ]
  },
  {
   "cell_type": "code",
   "execution_count": null,
   "id": "fc5669cd-7c90-466a-bbf4-9d1705aecd4b",
   "metadata": {},
   "outputs": [],
   "source": [
    "round(3.14519, ndigits = 2)"
   ]
  },
  {
   "cell_type": "code",
   "execution_count": null,
   "id": "d22bf2d8-1d35-429b-9b18-eea9cbaef864",
   "metadata": {},
   "outputs": [],
   "source": [
    "# All functionts return a value\n",
    "rounded_pi = round(3.14159, 2)\n",
    "print(rounded_pi)"
   ]
  },
  {
   "cell_type": "markdown",
   "id": "6d9016cf-2a98-4865-b5d5-59b747c07845",
   "metadata": {},
   "source": [
    "## Challenge\n",
    "\n",
    "In what order do the operations happen?\n",
    "\n",
    "radiance = 1.0 <br>\n",
    "radiance = max(2.1, 2.0 + min(radiance, 1.1 * radiance - 0.5))"
   ]
  },
  {
   "cell_type": "code",
   "execution_count": null,
   "id": "e5da2602-e42f-46c5-8de8-6852a1cbee24",
   "metadata": {},
   "outputs": [],
   "source": [
    "help(max)"
   ]
  },
  {
   "cell_type": "code",
   "execution_count": null,
   "id": "124e96e4-598a-49a4-9f5c-be78dccde0e1",
   "metadata": {},
   "outputs": [],
   "source": [
    "radiance = 1.0\n",
    "radiance = max(2.1, 2.0 + min(radiance, 1.1 * radiance - 0.5))"
   ]
  },
  {
   "cell_type": "code",
   "execution_count": null,
   "id": "67e54135-65a0-48ca-8ac5-96bd654d6b84",
   "metadata": {},
   "outputs": [],
   "source": [
    "print(radiance)"
   ]
  },
  {
   "cell_type": "code",
   "execution_count": null,
   "id": "785369e3-4ae1-4ae7-8155-862087a841a0",
   "metadata": {},
   "outputs": [],
   "source": [
    "# Break down these operation\n",
    "radiance = 1.0\n",
    "min_arg_2 = 1.1 * radiance - 0.5\n",
    "print(\"Min arg 2\",min_arg_2)\n",
    "\n",
    "min_result = min(radiance, min_arg_2)\n",
    "print(\"Min result\",min_result)\n",
    "\n",
    "radiance = max(2.1, 2.0 + min_result)\n",
    "print(\"radiance\",radiance)"
   ]
  },
  {
   "cell_type": "markdown",
   "id": "19996473-727c-4f94-af03-6735df137d6f",
   "metadata": {},
   "source": [
    "## A Brief Interlude with Git"
   ]
  },
  {
   "cell_type": "code",
   "execution_count": null,
   "id": "4387c010-07b0-4d21-b152-54b92b17d773",
   "metadata": {},
   "outputs": [],
   "source": [
    "# make .gitignore file and edit with nano to put files you want to ignore in commiting *.txt *.csv .ipynb_checkpoints/ DS_Store"
   ]
  },
  {
   "cell_type": "markdown",
   "id": "8a67302b-1358-492a-b72c-6b36fa148124",
   "metadata": {},
   "source": [
    "## Libraries"
   ]
  },
  {
   "cell_type": "code",
   "execution_count": null,
   "id": "47b4b81e-f60d-4e2c-8cff-88c2f3722780",
   "metadata": {},
   "outputs": [],
   "source": [
    "import math"
   ]
  },
  {
   "cell_type": "code",
   "execution_count": null,
   "id": "82af9a83-42e3-4ab1-964c-c7efdcb5c5dd",
   "metadata": {},
   "outputs": [],
   "source": [
    "math.pi"
   ]
  },
  {
   "cell_type": "code",
   "execution_count": null,
   "id": "b82f0d28-fb40-486a-8d80-faf28ff2f875",
   "metadata": {},
   "outputs": [],
   "source": [
    "print(math.pi)\n",
    "print(math.cos(math.pi))"
   ]
  },
  {
   "cell_type": "code",
   "execution_count": null,
   "id": "b7525255-ba1d-47dd-b1c5-2f5551eb7392",
   "metadata": {
    "tags": []
   },
   "outputs": [],
   "source": [
    "# get complete help wth help()\n",
    "#help(math)\n",
    "\n",
    "# Get a list of options with dir()\n",
    "print(dir(math))"
   ]
  },
  {
   "cell_type": "markdown",
   "id": "a1e00777-84c8-4b7b-8c67-4425e14dc4cf",
   "metadata": {},
   "source": [
    "## List"
   ]
  },
  {
   "cell_type": "code",
   "execution_count": null,
   "id": "c3eafcbf-bff1-4853-961c-df0c87b1e434",
   "metadata": {},
   "outputs": [],
   "source": [
    "# A list is an ordered collection of stuff\n",
    "fruits = [\"apple\", \"banana\", \"cherry\", \"date\", \"elderberry\", \"fig\"]"
   ]
  },
  {
   "cell_type": "code",
   "execution_count": null,
   "id": "01858b04-b02c-4187-a190-bd772bfa6b52",
   "metadata": {},
   "outputs": [],
   "source": [
    "fruits"
   ]
  },
  {
   "cell_type": "code",
   "execution_count": null,
   "id": "10b1c92e-b11e-4ffd-b4cb-044b83c4c7ad",
   "metadata": {},
   "outputs": [],
   "source": [
    "len(fruits)"
   ]
  },
  {
   "cell_type": "code",
   "execution_count": null,
   "id": "07d063ad-4e20-4ebe-bb7a-aaad2aa1eff9",
   "metadata": {},
   "outputs": [],
   "source": [
    "# Lists are indexed by position, counting from 0\n",
    "# First item\n",
    "print(fruits[0])\n",
    "\n",
    "# Fifth item\n",
    "print(fruits[4])"
   ]
  },
  {
   "cell_type": "code",
   "execution_count": null,
   "id": "8ffed3f7-fbbf-46b5-a0b8-c040eb769a22",
   "metadata": {},
   "outputs": [],
   "source": [
    "# Get subsets by slicing the list\n",
    "# Get first three items\n",
    "fruits[0:3]"
   ]
  },
  {
   "cell_type": "code",
   "execution_count": null,
   "id": "1bf7d768-0a33-4945-823f-2c124a08f054",
   "metadata": {},
   "outputs": [],
   "source": [
    "fruits[2:5]"
   ]
  },
  {
   "cell_type": "code",
   "execution_count": null,
   "id": "37943f44-4abe-42ea-b57a-5ad919a56001",
   "metadata": {},
   "outputs": [],
   "source": [
    "# Get items by step\n",
    "# Get the first 5 items, every other item\n",
    "fruits[0:5:2]"
   ]
  },
  {
   "cell_type": "code",
   "execution_count": null,
   "id": "165a2b54-f9dc-49f7-a45a-f60cc552b479",
   "metadata": {},
   "outputs": [],
   "source": [
    "# Get first 5 items, every 3rd item\n",
    "fruits[0:5:3]"
   ]
  },
  {
   "cell_type": "code",
   "execution_count": null,
   "id": "66697ef5-839a-47cd-81a1-8518088fc583",
   "metadata": {},
   "outputs": [],
   "source": [
    "print(len(fruits))"
   ]
  },
  {
   "cell_type": "markdown",
   "id": "490b140b-492b-421c-abbf-35943b46a83f",
   "metadata": {},
   "source": [
    "# Challenge\n",
    "\n",
    "What are the following statements doing?\n",
    "\n",
    "fruit[-1]\n",
    "\n",
    "fruits[20]\n",
    "\n",
    "fruits[-3:]"
   ]
  },
  {
   "cell_type": "code",
   "execution_count": null,
   "id": "691aa2aa-383c-458a-9b20-44223ef25ead",
   "metadata": {},
   "outputs": [],
   "source": [
    "fruits[-1]"
   ]
  },
  {
   "cell_type": "code",
   "execution_count": null,
   "id": "63a43fc7-e93a-45ec-a19e-04929467d38f",
   "metadata": {},
   "outputs": [],
   "source": [
    "fruits[20]"
   ]
  },
  {
   "cell_type": "code",
   "execution_count": null,
   "id": "a0398437-2cd3-4cb6-b63d-f9315d70d953",
   "metadata": {},
   "outputs": [],
   "source": [
    "fruits[-3:]"
   ]
  },
  {
   "cell_type": "code",
   "execution_count": null,
   "id": "bc5c1a22-f760-42a3-aabd-31d3b43b9c3a",
   "metadata": {},
   "outputs": [],
   "source": [
    "fruits"
   ]
  },
  {
   "cell_type": "code",
   "execution_count": null,
   "id": "f4167860-92bf-47b9-9dfc-90d29a05d531",
   "metadata": {},
   "outputs": [],
   "source": [
    "# Why are lists indexed this way?\n",
    "print(fruits[:2])\n",
    "print(fruits[2:])\n",
    "print(len(fruits[1:3]))"
   ]
  },
  {
   "cell_type": "markdown",
   "id": "daae75b2-7b7d-4fa3-8877-4ec0e39e6fd4",
   "metadata": {},
   "source": [
    "## Adding stuff to lists"
   ]
  },
  {
   "cell_type": "code",
   "execution_count": null,
   "id": "e252b4c2-f013-4eac-a0bb-804938de3981",
   "metadata": {},
   "outputs": [],
   "source": [
    "# Update a specific item\n",
    "print(fruits)\n",
    "\n",
    "fruits[0] = \"apricot\"\n",
    "print(fruits)"
   ]
  },
  {
   "cell_type": "code",
   "execution_count": null,
   "id": "31aed40a-c8d9-4a92-869a-368e493ee4aa",
   "metadata": {},
   "outputs": [],
   "source": [
    "# Add new items to a list\n",
    "fruits.append(\"grape\")\n",
    "fruits"
   ]
  },
  {
   "cell_type": "code",
   "execution_count": null,
   "id": "9986889b-844b-446b-bff0-910484d68abc",
   "metadata": {},
   "outputs": [],
   "source": [
    "# Add items from a second list to the first list\n",
    "more_fruits = [\"honeydew\", \"imbe\", \"jackfruit\"]\n",
    "fruits.extend(more_fruits)\n",
    "fruits"
   ]
  },
  {
   "cell_type": "code",
   "execution_count": null,
   "id": "2f5bf828-b90d-4061-9d81-fcbf2918ee15",
   "metadata": {},
   "outputs": [],
   "source": [
    "# Many functions operate on collections\n",
    "# Assessing our wide receiving corp\n",
    "receiving_yards = [450, 370, 870, 150]\n",
    "\n",
    "mean_yards = sum(receiving_yards)/len(receiving_yards)\n",
    "print(mean_yards)"
   ]
  },
  {
   "cell_type": "markdown",
   "id": "4ef9cbfd-33cd-43bf-9185-b55efdbd4a0a",
   "metadata": {},
   "source": [
    "## For Loops"
   ]
  },
  {
   "cell_type": "code",
   "execution_count": null,
   "id": "2dc912f6-d789-454c-afe5-39ae78aafc3b",
   "metadata": {},
   "outputs": [],
   "source": [
    "for fruit in fruits:\n",
    "    print(fruit)"
   ]
  },
  {
   "cell_type": "code",
   "execution_count": null,
   "id": "d0b05e18-2240-47a9-9eec-26f18395fd65",
   "metadata": {},
   "outputs": [],
   "source": [
    "for bob in fruits:\n",
    "    print(bob)"
   ]
  },
  {
   "cell_type": "code",
   "execution_count": null,
   "id": "ca8caf6b-afca-4e70-aaed-e88cd84baab3",
   "metadata": {},
   "outputs": [],
   "source": [
    "# Code blocks can contain many statements\n",
    "primes = [2,3,5]\n",
    "for p in primes:\n",
    "    squared = p**2\n",
    "    cubed = p**3\n",
    "    print(p,squared,cubed)"
   ]
  },
  {
   "cell_type": "code",
   "execution_count": null,
   "id": "0036e8f2-8b95-4a5f-b342-b190b5a01929",
   "metadata": {},
   "outputs": [],
   "source": [
    "# Create a new collecton from an existing collection\n",
    "primes_squared = []\n",
    "for p in primes:\n",
    "    primes_squared.append(p**2)\n",
    "primes_squared"
   ]
  },
  {
   "cell_type": "markdown",
   "id": "a9749920-ded6-40fb-bfab-ce14de44efe8",
   "metadata": {},
   "source": [
    "## Challange\n",
    "\n",
    "Get the total length of all the items in the fruits list."
   ]
  },
  {
   "cell_type": "code",
   "execution_count": null,
   "id": "4d665fbf-fb8e-488a-82f3-6d956da3adfa",
   "metadata": {},
   "outputs": [],
   "source": [
    "fruit_len = 0\n",
    "for fruit in fruits:\n",
    "    fruit_len += len(fruit)\n",
    "fruit_len"
   ]
  },
  {
   "cell_type": "code",
   "execution_count": null,
   "id": "019f2e7d-deb6-4f31-9db6-4357091398ec",
   "metadata": {},
   "outputs": [],
   "source": [
    "# Generator comprehension\n",
    "sum(len(f) for f in fruits)"
   ]
  },
  {
   "cell_type": "code",
   "execution_count": null,
   "id": "9fe9bdca-30d3-4049-94a6-e24e4e535c48",
   "metadata": {},
   "outputs": [],
   "source": [
    "len(\"\".join(fruits))"
   ]
  },
  {
   "cell_type": "code",
   "execution_count": null,
   "id": "ea5662ed-a4a5-4d0c-8629-bf169b9d50f9",
   "metadata": {},
   "outputs": [],
   "source": [
    "print(\"_\".join(fruits))"
   ]
  },
  {
   "cell_type": "code",
   "execution_count": null,
   "id": "adff0c5c-20ba-472a-9a77-3cc0adf7257a",
   "metadata": {},
   "outputs": [],
   "source": []
  }
 ],
 "metadata": {
  "kernelspec": {
   "display_name": "Python 3 (ipykernel)",
   "language": "python",
   "name": "python3"
  },
  "language_info": {
   "codemirror_mode": {
    "name": "ipython",
    "version": 3
   },
   "file_extension": ".py",
   "mimetype": "text/x-python",
   "name": "python",
   "nbconvert_exporter": "python",
   "pygments_lexer": "ipython3",
   "version": "3.9.12"
  }
 },
 "nbformat": 4,
 "nbformat_minor": 5
}
